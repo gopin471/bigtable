{
  "nbformat": 4,
  "nbformat_minor": 0,
  "metadata": {
    "colab": {
      "name": "Bigquery_to_Bigtable.ipynb",
      "provenance": [],
      "collapsed_sections": [],
      "authorship_tag": "ABX9TyNfoAgyEYutRo6JzxjeYeVO"
    },
    "kernelspec": {
      "name": "python3",
      "display_name": "Python 3"
    },
    "language_info": {
      "name": "python"
    }
  },
  "cells": [
    {
      "cell_type": "markdown",
      "metadata": {
        "id": "B6TQmzbk8n07"
      },
      "source": [
        "0. Install the dependency"
      ]
    },
    {
      "cell_type": "code",
      "metadata": {
        "colab": {
          "base_uri": "https://localhost:8080/",
          "height": 688
        },
        "id": "x3zlamwQ8nUk",
        "outputId": "38ec418a-f5bf-4178-b44b-e000b346e91c"
      },
      "source": [
        "!pip install google-cloud-bigtable==1.2.0"
      ],
      "execution_count": null,
      "outputs": [
        {
          "output_type": "stream",
          "text": [
            "Collecting google-cloud-bigtable==1.2.0\n",
            "\u001b[?25l  Downloading https://files.pythonhosted.org/packages/35/23/88d98cef6845422ecbe3d16491acc9341cd3bd503fa6938376c5ad7f0c2b/google_cloud_bigtable-1.2.0-py2.py3-none-any.whl (234kB)\n",
            "\r\u001b[K     |█▍                              | 10kB 16.2MB/s eta 0:00:01\r\u001b[K     |██▉                             | 20kB 17.8MB/s eta 0:00:01\r\u001b[K     |████▏                           | 30kB 15.6MB/s eta 0:00:01\r\u001b[K     |█████▋                          | 40kB 12.4MB/s eta 0:00:01\r\u001b[K     |███████                         | 51kB 8.8MB/s eta 0:00:01\r\u001b[K     |████████▍                       | 61kB 8.1MB/s eta 0:00:01\r\u001b[K     |█████████▊                      | 71kB 9.1MB/s eta 0:00:01\r\u001b[K     |███████████▏                    | 81kB 10.0MB/s eta 0:00:01\r\u001b[K     |████████████▌                   | 92kB 8.9MB/s eta 0:00:01\r\u001b[K     |██████████████                  | 102kB 8.4MB/s eta 0:00:01\r\u001b[K     |███████████████▍                | 112kB 8.4MB/s eta 0:00:01\r\u001b[K     |████████████████▊               | 122kB 8.4MB/s eta 0:00:01\r\u001b[K     |██████████████████▏             | 133kB 8.4MB/s eta 0:00:01\r\u001b[K     |███████████████████▌            | 143kB 8.4MB/s eta 0:00:01\r\u001b[K     |█████████████████████           | 153kB 8.4MB/s eta 0:00:01\r\u001b[K     |██████████████████████▎         | 163kB 8.4MB/s eta 0:00:01\r\u001b[K     |███████████████████████▊        | 174kB 8.4MB/s eta 0:00:01\r\u001b[K     |█████████████████████████       | 184kB 8.4MB/s eta 0:00:01\r\u001b[K     |██████████████████████████▌     | 194kB 8.4MB/s eta 0:00:01\r\u001b[K     |████████████████████████████    | 204kB 8.4MB/s eta 0:00:01\r\u001b[K     |█████████████████████████████▎  | 215kB 8.4MB/s eta 0:00:01\r\u001b[K     |██████████████████████████████▊ | 225kB 8.4MB/s eta 0:00:01\r\u001b[K     |████████████████████████████████| 235kB 8.4MB/s \n",
            "\u001b[?25hRequirement already satisfied: google-cloud-core<2.0dev,>=1.0.3 in /usr/local/lib/python3.7/dist-packages (from google-cloud-bigtable==1.2.0) (1.0.3)\n",
            "Requirement already satisfied: google-api-core[grpc]<2.0.0dev,>=1.14.0 in /usr/local/lib/python3.7/dist-packages (from google-cloud-bigtable==1.2.0) (1.26.3)\n",
            "Collecting grpc-google-iam-v1<0.13dev,>=0.12.3\n",
            "  Downloading https://files.pythonhosted.org/packages/65/19/2060c8faa325fddc09aa67af98ffcb6813f39a0ad805679fa64815362b3a/grpc-google-iam-v1-0.12.3.tar.gz\n",
            "Requirement already satisfied: googleapis-common-protos<2.0dev,>=1.6.0 in /usr/local/lib/python3.7/dist-packages (from google-api-core[grpc]<2.0.0dev,>=1.14.0->google-cloud-bigtable==1.2.0) (1.53.0)\n",
            "Requirement already satisfied: requests<3.0.0dev,>=2.18.0 in /usr/local/lib/python3.7/dist-packages (from google-api-core[grpc]<2.0.0dev,>=1.14.0->google-cloud-bigtable==1.2.0) (2.23.0)\n",
            "Requirement already satisfied: google-auth<2.0dev,>=1.21.1 in /usr/local/lib/python3.7/dist-packages (from google-api-core[grpc]<2.0.0dev,>=1.14.0->google-cloud-bigtable==1.2.0) (1.28.1)\n",
            "Requirement already satisfied: packaging>=14.3 in /usr/local/lib/python3.7/dist-packages (from google-api-core[grpc]<2.0.0dev,>=1.14.0->google-cloud-bigtable==1.2.0) (20.9)\n",
            "Requirement already satisfied: pytz in /usr/local/lib/python3.7/dist-packages (from google-api-core[grpc]<2.0.0dev,>=1.14.0->google-cloud-bigtable==1.2.0) (2018.9)\n",
            "Requirement already satisfied: setuptools>=40.3.0 in /usr/local/lib/python3.7/dist-packages (from google-api-core[grpc]<2.0.0dev,>=1.14.0->google-cloud-bigtable==1.2.0) (56.1.0)\n",
            "Requirement already satisfied: protobuf>=3.12.0 in /usr/local/lib/python3.7/dist-packages (from google-api-core[grpc]<2.0.0dev,>=1.14.0->google-cloud-bigtable==1.2.0) (3.12.4)\n",
            "Requirement already satisfied: six>=1.13.0 in /usr/local/lib/python3.7/dist-packages (from google-api-core[grpc]<2.0.0dev,>=1.14.0->google-cloud-bigtable==1.2.0) (1.15.0)\n",
            "Requirement already satisfied: grpcio<2.0dev,>=1.29.0; extra == \"grpc\" in /usr/local/lib/python3.7/dist-packages (from google-api-core[grpc]<2.0.0dev,>=1.14.0->google-cloud-bigtable==1.2.0) (1.32.0)\n",
            "Requirement already satisfied: certifi>=2017.4.17 in /usr/local/lib/python3.7/dist-packages (from requests<3.0.0dev,>=2.18.0->google-api-core[grpc]<2.0.0dev,>=1.14.0->google-cloud-bigtable==1.2.0) (2020.12.5)\n",
            "Requirement already satisfied: idna<3,>=2.5 in /usr/local/lib/python3.7/dist-packages (from requests<3.0.0dev,>=2.18.0->google-api-core[grpc]<2.0.0dev,>=1.14.0->google-cloud-bigtable==1.2.0) (2.10)\n",
            "Requirement already satisfied: chardet<4,>=3.0.2 in /usr/local/lib/python3.7/dist-packages (from requests<3.0.0dev,>=2.18.0->google-api-core[grpc]<2.0.0dev,>=1.14.0->google-cloud-bigtable==1.2.0) (3.0.4)\n",
            "Requirement already satisfied: urllib3!=1.25.0,!=1.25.1,<1.26,>=1.21.1 in /usr/local/lib/python3.7/dist-packages (from requests<3.0.0dev,>=2.18.0->google-api-core[grpc]<2.0.0dev,>=1.14.0->google-cloud-bigtable==1.2.0) (1.24.3)\n",
            "Requirement already satisfied: cachetools<5.0,>=2.0.0 in /usr/local/lib/python3.7/dist-packages (from google-auth<2.0dev,>=1.21.1->google-api-core[grpc]<2.0.0dev,>=1.14.0->google-cloud-bigtable==1.2.0) (4.2.1)\n",
            "Requirement already satisfied: pyasn1-modules>=0.2.1 in /usr/local/lib/python3.7/dist-packages (from google-auth<2.0dev,>=1.21.1->google-api-core[grpc]<2.0.0dev,>=1.14.0->google-cloud-bigtable==1.2.0) (0.2.8)\n",
            "Requirement already satisfied: rsa<5,>=3.1.4; python_version >= \"3.6\" in /usr/local/lib/python3.7/dist-packages (from google-auth<2.0dev,>=1.21.1->google-api-core[grpc]<2.0.0dev,>=1.14.0->google-cloud-bigtable==1.2.0) (4.7.2)\n",
            "Requirement already satisfied: pyparsing>=2.0.2 in /usr/local/lib/python3.7/dist-packages (from packaging>=14.3->google-api-core[grpc]<2.0.0dev,>=1.14.0->google-cloud-bigtable==1.2.0) (2.4.7)\n",
            "Requirement already satisfied: pyasn1<0.5.0,>=0.4.6 in /usr/local/lib/python3.7/dist-packages (from pyasn1-modules>=0.2.1->google-auth<2.0dev,>=1.21.1->google-api-core[grpc]<2.0.0dev,>=1.14.0->google-cloud-bigtable==1.2.0) (0.4.8)\n",
            "Building wheels for collected packages: grpc-google-iam-v1\n",
            "  Building wheel for grpc-google-iam-v1 (setup.py) ... \u001b[?25l\u001b[?25hdone\n",
            "  Created wheel for grpc-google-iam-v1: filename=grpc_google_iam_v1-0.12.3-cp37-none-any.whl size=18500 sha256=585d113892fcafd5dc0538e070c65783502bf81e4e97e90dd465333a28a9229c\n",
            "  Stored in directory: /root/.cache/pip/wheels/de/3a/83/77a1e18e1a8757186df834b86ce6800120ac9c79cd8ca4091b\n",
            "Successfully built grpc-google-iam-v1\n",
            "Installing collected packages: grpc-google-iam-v1, google-cloud-bigtable\n",
            "Successfully installed google-cloud-bigtable-1.2.0 grpc-google-iam-v1-0.12.3\n"
          ],
          "name": "stdout"
        },
        {
          "output_type": "display_data",
          "data": {
            "application/vnd.colab-display-data+json": {
              "pip_warning": {
                "packages": [
                  "google"
                ]
              }
            }
          },
          "metadata": {
            "tags": []
          }
        }
      ]
    },
    {
      "cell_type": "markdown",
      "metadata": {
        "id": "EPJaMA3J7uqY"
      },
      "source": [
        "1. Import necessary modules"
      ]
    },
    {
      "cell_type": "code",
      "metadata": {
        "id": "TYxqy4em7mbS"
      },
      "source": [
        "from google.cloud import bigquery, bigtable\n",
        "from google.colab import auth\n",
        "auth.authenticate_user()"
      ],
      "execution_count": null,
      "outputs": []
    },
    {
      "cell_type": "markdown",
      "metadata": {
        "id": "WnGc4cAv0mGY"
      },
      "source": [
        "# Bigquery"
      ]
    },
    {
      "cell_type": "markdown",
      "metadata": {
        "id": "LOkTL108n7Um"
      },
      "source": [
        "2. Creating and getting necessary information from Bigquery"
      ]
    },
    {
      "cell_type": "code",
      "metadata": {
        "colab": {
          "base_uri": "https://localhost:8080/"
        },
        "id": "8t1NHsYYm552",
        "outputId": "44821ebf-6e24-48e0-f95d-ef7b1e932c5e"
      },
      "source": [
        "bqc = bigquery.Client(project=\"lateral-array-281406\")\n",
        "\n",
        "table_schema = [\n",
        "                bigquery.SchemaField(\n",
        "                    \"date\",\n",
        "                    field_type=\"TIMESTAMP\"\n",
        "                ),\n",
        "                bigquery.SchemaField(\n",
        "                    \"covid_count\",\n",
        "                    field_type=\"RECORD\",\n",
        "                    fields = [\n",
        "                              bigquery.SchemaField(\n",
        "                                  \"country\",\n",
        "                                  field_type=\"STRING\"\n",
        "                              ),\n",
        "                              bigquery.SchemaField(\n",
        "                                  \"province\",\n",
        "                                  field_type=\"STRING\"\n",
        "                              ),\n",
        "                              bigquery.SchemaField(\n",
        "                                  name=\"region\",\n",
        "                                  field_type=\"STRING\"\n",
        "                              ),\n",
        "                              bigquery.SchemaField(\n",
        "                                  \"confirmed_case\",\n",
        "                                  field_type=\"NUMERIC\"\n",
        "                              )\n",
        "                    ]\n",
        "                )\n",
        "]\n",
        "italy_covid_cases = bigquery.Table(\n",
        "    bigquery.TableReference(\n",
        "        bigquery.DatasetReference(\n",
        "          \"lateral-array-281406\",\n",
        "          \"dev\"  \n",
        "        ),\n",
        "        \"italy_covid_cases\"\n",
        "    ),\n",
        "    schema=table_schema\n",
        ")\n",
        "\n",
        "table_ref = None\n",
        "\n",
        "try:\n",
        "  table_ref = bqc.get_table(italy_covid_cases)\n",
        "except Exception as ex:\n",
        "  print(f\"Table {italy_covid_cases.dataset_id}.{italy_covid_cases.table_id} not found. \")\n",
        "\n",
        "if table_ref is None:\n",
        "  print(f\"Attempting to create new table.\")\n",
        "\n",
        "bqc.create_table(italy_covid_cases, exists_ok=True)\n",
        "print(\"Table has been created\")"
      ],
      "execution_count": 30,
      "outputs": [
        {
          "output_type": "stream",
          "text": [
            "Table dev.italy_covid_cases not found. \n",
            "Attempting to create new table.\n",
            "Table has been created\n"
          ],
          "name": "stdout"
        }
      ]
    },
    {
      "cell_type": "markdown",
      "metadata": {
        "id": "GDQTx67Fvcr4"
      },
      "source": [
        "3. Getting table details and data "
      ]
    },
    {
      "cell_type": "code",
      "metadata": {
        "id": "PPkGUj3VoP4l",
        "colab": {
          "base_uri": "https://localhost:8080/",
          "height": 47
        },
        "outputId": "54f6b812-afcc-4a35-c542-b9e56658351f"
      },
      "source": [
        "%%bigquery --project lateral-array-281406\n",
        "select * from dev.italy_covid_cases"
      ],
      "execution_count": 31,
      "outputs": [
        {
          "output_type": "execute_result",
          "data": {
            "text/html": [
              "<div>\n",
              "<style scoped>\n",
              "    .dataframe tbody tr th:only-of-type {\n",
              "        vertical-align: middle;\n",
              "    }\n",
              "\n",
              "    .dataframe tbody tr th {\n",
              "        vertical-align: top;\n",
              "    }\n",
              "\n",
              "    .dataframe thead th {\n",
              "        text-align: right;\n",
              "    }\n",
              "</style>\n",
              "<table border=\"1\" class=\"dataframe\">\n",
              "  <thead>\n",
              "    <tr style=\"text-align: right;\">\n",
              "      <th></th>\n",
              "      <th>date</th>\n",
              "      <th>covid_count</th>\n",
              "    </tr>\n",
              "  </thead>\n",
              "  <tbody>\n",
              "  </tbody>\n",
              "</table>\n",
              "</div>"
            ],
            "text/plain": [
              "Empty DataFrame\n",
              "Columns: [date, covid_count]\n",
              "Index: []"
            ]
          },
          "metadata": {
            "tags": []
          },
          "execution_count": 31
        }
      ]
    },
    {
      "cell_type": "markdown",
      "metadata": {
        "id": "lUq3pg_bwDxz"
      },
      "source": [
        "4. Populating dummy data"
      ]
    },
    {
      "cell_type": "code",
      "metadata": {
        "colab": {
          "base_uri": "https://localhost:8080/",
          "height": 31
        },
        "id": "5VSAI9EGvygT",
        "outputId": "9e7cbb78-516f-4ab1-c522-0ce449cb1a25"
      },
      "source": [
        "%%bigquery --project lateral-array-281406\n",
        "insert into dev.italy_covid_cases\n",
        "SELECT\n",
        "  date,\n",
        "  STRUCT(country,\n",
        "   region_name,\n",
        "    province_name,\n",
        "    confirmed_cases ) as covid_count\n",
        "FROM\n",
        "  `bigquery-public-data.covid19_italy.data_by_province`"
      ],
      "execution_count": 32,
      "outputs": [
        {
          "output_type": "execute_result",
          "data": {
            "text/html": [
              "<div>\n",
              "<style scoped>\n",
              "    .dataframe tbody tr th:only-of-type {\n",
              "        vertical-align: middle;\n",
              "    }\n",
              "\n",
              "    .dataframe tbody tr th {\n",
              "        vertical-align: top;\n",
              "    }\n",
              "\n",
              "    .dataframe thead th {\n",
              "        text-align: right;\n",
              "    }\n",
              "</style>\n",
              "<table border=\"1\" class=\"dataframe\">\n",
              "  <thead>\n",
              "    <tr style=\"text-align: right;\">\n",
              "      <th></th>\n",
              "    </tr>\n",
              "  </thead>\n",
              "  <tbody>\n",
              "  </tbody>\n",
              "</table>\n",
              "</div>"
            ],
            "text/plain": [
              "Empty DataFrame\n",
              "Columns: []\n",
              "Index: []"
            ]
          },
          "metadata": {
            "tags": []
          },
          "execution_count": 32
        }
      ]
    },
    {
      "cell_type": "markdown",
      "metadata": {
        "id": "E7DJf-lzw5oL"
      },
      "source": [
        "5. Verify the data"
      ]
    },
    {
      "cell_type": "code",
      "metadata": {
        "colab": {
          "base_uri": "https://localhost:8080/",
          "height": 402
        },
        "id": "vZ8wi5CFw4Th",
        "outputId": "ca257a6b-2d17-4c09-b524-823ee7f40133"
      },
      "source": [
        "%%bigquery --project lateral-array-281406\n",
        "select * from dev.italy_covid_cases limit 100"
      ],
      "execution_count": 33,
      "outputs": [
        {
          "output_type": "execute_result",
          "data": {
            "text/html": [
              "<div>\n",
              "<style scoped>\n",
              "    .dataframe tbody tr th:only-of-type {\n",
              "        vertical-align: middle;\n",
              "    }\n",
              "\n",
              "    .dataframe tbody tr th {\n",
              "        vertical-align: top;\n",
              "    }\n",
              "\n",
              "    .dataframe thead th {\n",
              "        text-align: right;\n",
              "    }\n",
              "</style>\n",
              "<table border=\"1\" class=\"dataframe\">\n",
              "  <thead>\n",
              "    <tr style=\"text-align: right;\">\n",
              "      <th></th>\n",
              "      <th>date</th>\n",
              "      <th>covid_count</th>\n",
              "    </tr>\n",
              "  </thead>\n",
              "  <tbody>\n",
              "    <tr>\n",
              "      <th>0</th>\n",
              "      <td>2020-03-26 17:00:00+00:00</td>\n",
              "      <td>{'country': 'ITA', 'province': 'Lazio', 'regio...</td>\n",
              "    </tr>\n",
              "    <tr>\n",
              "      <th>1</th>\n",
              "      <td>2020-05-23 17:00:00+00:00</td>\n",
              "      <td>{'country': 'ITA', 'province': 'Lazio', 'regio...</td>\n",
              "    </tr>\n",
              "    <tr>\n",
              "      <th>2</th>\n",
              "      <td>2020-06-17 17:00:00+00:00</td>\n",
              "      <td>{'country': 'ITA', 'province': 'Lazio', 'regio...</td>\n",
              "    </tr>\n",
              "    <tr>\n",
              "      <th>3</th>\n",
              "      <td>2020-07-04 17:00:00+00:00</td>\n",
              "      <td>{'country': 'ITA', 'province': 'Lazio', 'regio...</td>\n",
              "    </tr>\n",
              "    <tr>\n",
              "      <th>4</th>\n",
              "      <td>2020-09-07 17:00:00+00:00</td>\n",
              "      <td>{'country': 'ITA', 'province': 'Lazio', 'regio...</td>\n",
              "    </tr>\n",
              "    <tr>\n",
              "      <th>...</th>\n",
              "      <td>...</td>\n",
              "      <td>...</td>\n",
              "    </tr>\n",
              "    <tr>\n",
              "      <th>95</th>\n",
              "      <td>2020-12-12 17:00:00+00:00</td>\n",
              "      <td>{'country': 'ITA', 'province': 'Lazio', 'regio...</td>\n",
              "    </tr>\n",
              "    <tr>\n",
              "      <th>96</th>\n",
              "      <td>2021-01-06 17:00:00+00:00</td>\n",
              "      <td>{'country': 'ITA', 'province': 'Lazio', 'regio...</td>\n",
              "    </tr>\n",
              "    <tr>\n",
              "      <th>97</th>\n",
              "      <td>2021-01-22 17:00:00+00:00</td>\n",
              "      <td>{'country': 'ITA', 'province': 'Lazio', 'regio...</td>\n",
              "    </tr>\n",
              "    <tr>\n",
              "      <th>98</th>\n",
              "      <td>2021-01-24 17:00:00+00:00</td>\n",
              "      <td>{'country': 'ITA', 'province': 'Lazio', 'regio...</td>\n",
              "    </tr>\n",
              "    <tr>\n",
              "      <th>99</th>\n",
              "      <td>2021-03-13 17:00:00+00:00</td>\n",
              "      <td>{'country': 'ITA', 'province': 'Lazio', 'regio...</td>\n",
              "    </tr>\n",
              "  </tbody>\n",
              "</table>\n",
              "<p>100 rows × 2 columns</p>\n",
              "</div>"
            ],
            "text/plain": [
              "                        date                                        covid_count\n",
              "0  2020-03-26 17:00:00+00:00  {'country': 'ITA', 'province': 'Lazio', 'regio...\n",
              "1  2020-05-23 17:00:00+00:00  {'country': 'ITA', 'province': 'Lazio', 'regio...\n",
              "2  2020-06-17 17:00:00+00:00  {'country': 'ITA', 'province': 'Lazio', 'regio...\n",
              "3  2020-07-04 17:00:00+00:00  {'country': 'ITA', 'province': 'Lazio', 'regio...\n",
              "4  2020-09-07 17:00:00+00:00  {'country': 'ITA', 'province': 'Lazio', 'regio...\n",
              "..                       ...                                                ...\n",
              "95 2020-12-12 17:00:00+00:00  {'country': 'ITA', 'province': 'Lazio', 'regio...\n",
              "96 2021-01-06 17:00:00+00:00  {'country': 'ITA', 'province': 'Lazio', 'regio...\n",
              "97 2021-01-22 17:00:00+00:00  {'country': 'ITA', 'province': 'Lazio', 'regio...\n",
              "98 2021-01-24 17:00:00+00:00  {'country': 'ITA', 'province': 'Lazio', 'regio...\n",
              "99 2021-03-13 17:00:00+00:00  {'country': 'ITA', 'province': 'Lazio', 'regio...\n",
              "\n",
              "[100 rows x 2 columns]"
            ]
          },
          "metadata": {
            "tags": []
          },
          "execution_count": 33
        }
      ]
    },
    {
      "cell_type": "code",
      "metadata": {
        "colab": {
          "base_uri": "https://localhost:8080/"
        },
        "id": "6AF5GLfJPpLo",
        "outputId": "838e5ac7-d2fc-4ba7-ee90-30375945bfe7"
      },
      "source": [
        ""
      ],
      "execution_count": 61,
      "outputs": [
        {
          "output_type": "execute_result",
          "data": {
            "text/plain": [
              "<google.cloud.bigquery.table.RowIterator at 0x7fe1ff0db390>"
            ]
          },
          "metadata": {
            "tags": []
          },
          "execution_count": 61
        }
      ]
    },
    {
      "cell_type": "markdown",
      "metadata": {
        "id": "x8ukwIKg0jXv"
      },
      "source": [
        ""
      ]
    },
    {
      "cell_type": "markdown",
      "metadata": {
        "id": "QiensUEJ0pRK"
      },
      "source": [
        "# Bigtable"
      ]
    },
    {
      "cell_type": "markdown",
      "metadata": {
        "id": "4DOtCN2b0rIh"
      },
      "source": [
        "1. Create a bigtable instance"
      ]
    },
    {
      "cell_type": "code",
      "metadata": {
        "colab": {
          "base_uri": "https://localhost:8080/"
        },
        "id": "F13jivaq0tih",
        "outputId": "46713da0-d5e2-4570-ad19-c96757b899e7"
      },
      "source": [
        "from google.cloud.bigtable import Client\n",
        "from google.cloud.bigtable import enums\n",
        "\n",
        "UNIQUE_SUFFIX = \"poc\"\n",
        "\n",
        "my_instance_id = \"myinstance-\" + UNIQUE_SUFFIX\n",
        "my_cluster_id = \"mycluster-\" + UNIQUE_SUFFIX\n",
        "location_id = \"us-central1-c\"\n",
        "storage_type = enums.StorageType.HDD\n",
        "dev = enums.Instance.Type.DEVELOPMENT\n",
        "\n",
        "client = Client(admin=True, project=\"lateral-array-281406\")\n",
        "instance = client.instance(my_instance_id, instance_type=dev)\n",
        "cluster = instance.cluster(\n",
        "    my_cluster_id,\n",
        "    location_id=location_id,\n",
        "    default_storage_type=storage_type,\n",
        ")\n",
        "operation = instance.create(clusters=[cluster])\n",
        "\n",
        "# We want to make sure the operation completes.\n",
        "operation.result(timeout=100)"
      ],
      "execution_count": 92,
      "outputs": [
        {
          "output_type": "execute_result",
          "data": {
            "text/plain": [
              "name: \"projects/lateral-array-281406/instances/myinstance-poc\"\n",
              "display_name: \"myinstance-poc\"\n",
              "state: READY\n",
              "type: DEVELOPMENT"
            ]
          },
          "metadata": {
            "tags": []
          },
          "execution_count": 92
        }
      ]
    },
    {
      "cell_type": "markdown",
      "metadata": {
        "id": "RNTwb7d55BKX"
      },
      "source": [
        "2. Create table"
      ]
    },
    {
      "cell_type": "code",
      "metadata": {
        "id": "cQi_TPlv2L2l"
      },
      "source": [
        "instance.table(\"italy_covid_cases\").create()"
      ],
      "execution_count": 94,
      "outputs": []
    },
    {
      "cell_type": "code",
      "metadata": {
        "id": "dpDT6RjJ5zIX"
      },
      "source": [
        "from google.cloud.bigtable import column_family\n",
        "\n",
        "instance.table(\"italy_covid_cases\").column_family(\n",
        "\"covid_cases\", column_family.MaxVersionsGCRule(2)\n",
        ").create()\n",
        "italy_covid_cases = instance.table(\"italy_covid_cases\")"
      ],
      "execution_count": 95,
      "outputs": []
    },
    {
      "cell_type": "markdown",
      "metadata": {
        "id": "FZcZZZVSP2dx"
      },
      "source": [
        "# Bigquery to Bigtable"
      ]
    },
    {
      "cell_type": "code",
      "metadata": {
        "id": "MmuqBCQ56nFD"
      },
      "source": [
        "from datetime import datetime\n",
        "rows = []\n",
        "row_key_d = dict()\n",
        "job = bqc.query(\"select * from dev.italy_covid_cases limit 10000\")\n",
        "for rec in job.result():\n",
        "  row_key = f\"{rec.covid_count['province']}#{rec.covid_count['country']}#{rec.covid_count['region']}#{rec.date.isoformat()}\".encode('utf-8')\n",
        "  row = italy_covid_cases.direct_row(row_key)\n",
        "  row.set_cell(\n",
        "      \"covid_cases\",\n",
        "      \"country\".encode(),\n",
        "      rec.covid_count['country'].encode('utf-8'),\n",
        "      timestamp = datetime.utcnow()   \n",
        "  )\n",
        "  row.set_cell(\n",
        "      \"covid_cases\",\n",
        "      \"province\".encode(),\n",
        "      rec.covid_count['province'].encode('utf-8'),\n",
        "      timestamp = datetime.utcnow()   \n",
        "  )\n",
        "  row.set_cell(\n",
        "      \"covid_cases\",\n",
        "      \"region\".encode(),\n",
        "      rec.covid_count['region'].encode('utf-8'),\n",
        "      timestamp = datetime.utcnow()   \n",
        "  )\n",
        "  row.set_cell(\n",
        "      \"covid_cases\",\n",
        "      \"confirmed_case\".encode(),\n",
        "      str(rec.covid_count['confirmed_case']).encode('utf-8'),\n",
        "      timestamp = datetime.utcnow()   \n",
        "  )\n",
        "  rows.append(row)\n",
        "  if row_key in row_key_d.keys():\n",
        "    row_key_d[row_key] += 1\n",
        "  else:\n",
        "    row_key_d[row_key] =1\n",
        "\n",
        "italy_covid_cases.mutate_rows(rows)\n"
      ],
      "execution_count": null,
      "outputs": []
    },
    {
      "cell_type": "code",
      "metadata": {
        "colab": {
          "base_uri": "https://localhost:8080/"
        },
        "id": "ZQdKypkFVbPZ",
        "outputId": "32032fa5-9ce0-4d85-ac64-527a4ec3513d"
      },
      "source": [
        "for row in italy_covid_cases.read_rows(limit=100):\n",
        "  print(row.row_key, row.to_dict())"
      ],
      "execution_count": 124,
      "outputs": [
        {
          "output_type": "stream",
          "text": [
            "b'Lazio#2020-03-26T17:00:00+00:00' {b'covid_cases:confirmed_case': [<Cell value=b'1567' timestamp=2021-05-08 14:05:37.002000+00:00>], b'covid_cases:country': [<Cell value=b'ITA' timestamp=2021-05-08 14:05:37.002000+00:00>], b'covid_cases:province': [<Cell value=b'Lazio' timestamp=2021-05-08 14:05:37.002000+00:00>], b'covid_cases:region': [<Cell value=b'Roma' timestamp=2021-05-08 14:05:37.002000+00:00>]}\n",
            "b'Lazio#2020-05-23T17:00:00+00:00' {b'covid_cases:confirmed_case': [<Cell value=b'5549' timestamp=2021-05-08 14:05:37.002000+00:00>], b'covid_cases:country': [<Cell value=b'ITA' timestamp=2021-05-08 14:05:37.002000+00:00>], b'covid_cases:province': [<Cell value=b'Lazio' timestamp=2021-05-08 14:05:37.002000+00:00>], b'covid_cases:region': [<Cell value=b'Roma' timestamp=2021-05-08 14:05:37.002000+00:00>]}\n",
            "b'Lazio#2020-06-17T17:00:00+00:00' {b'covid_cases:confirmed_case': [<Cell value=b'5866' timestamp=2021-05-08 14:05:37.003000+00:00>], b'covid_cases:country': [<Cell value=b'ITA' timestamp=2021-05-08 14:05:37.002000+00:00>], b'covid_cases:province': [<Cell value=b'Lazio' timestamp=2021-05-08 14:05:37.002000+00:00>], b'covid_cases:region': [<Cell value=b'Roma' timestamp=2021-05-08 14:05:37.003000+00:00>]}\n",
            "b'Lazio#2020-07-04T17:00:00+00:00' {b'covid_cases:confirmed_case': [<Cell value=b'5925' timestamp=2021-05-08 14:05:37.003000+00:00>], b'covid_cases:country': [<Cell value=b'ITA' timestamp=2021-05-08 14:05:37.003000+00:00>], b'covid_cases:province': [<Cell value=b'Lazio' timestamp=2021-05-08 14:05:37.003000+00:00>], b'covid_cases:region': [<Cell value=b'Roma' timestamp=2021-05-08 14:05:37.003000+00:00>]}\n",
            "b'Lazio#2020-09-07T17:00:00+00:00' {b'covid_cases:confirmed_case': [<Cell value=b'9234' timestamp=2021-05-08 14:05:37.003000+00:00>], b'covid_cases:country': [<Cell value=b'ITA' timestamp=2021-05-08 14:05:37.003000+00:00>], b'covid_cases:province': [<Cell value=b'Lazio' timestamp=2021-05-08 14:05:37.003000+00:00>], b'covid_cases:region': [<Cell value=b'Roma' timestamp=2021-05-08 14:05:37.003000+00:00>]}\n",
            "b'Lazio#2020-09-10T17:00:00+00:00' {b'covid_cases:confirmed_case': [<Cell value=b'9613' timestamp=2021-05-08 14:05:37.003000+00:00>], b'covid_cases:country': [<Cell value=b'ITA' timestamp=2021-05-08 14:05:37.003000+00:00>], b'covid_cases:province': [<Cell value=b'Lazio' timestamp=2021-05-08 14:05:37.003000+00:00>], b'covid_cases:region': [<Cell value=b'Roma' timestamp=2021-05-08 14:05:37.003000+00:00>]}\n",
            "b'Lazio#2020-12-09T17:00:00+00:00' {b'covid_cases:confirmed_case': [<Cell value=b'98754' timestamp=2021-05-08 14:05:37.003000+00:00>], b'covid_cases:country': [<Cell value=b'ITA' timestamp=2021-05-08 14:05:37.003000+00:00>], b'covid_cases:province': [<Cell value=b'Lazio' timestamp=2021-05-08 14:05:37.003000+00:00>], b'covid_cases:region': [<Cell value=b'Roma' timestamp=2021-05-08 14:05:37.003000+00:00>]}\n",
            "b'Lazio#2021-01-11T17:00:00+00:00' {b'covid_cases:confirmed_case': [<Cell value=b'130269' timestamp=2021-05-08 14:05:37.003000+00:00>], b'covid_cases:country': [<Cell value=b'ITA' timestamp=2021-05-08 14:05:37.003000+00:00>], b'covid_cases:province': [<Cell value=b'Lazio' timestamp=2021-05-08 14:05:37.003000+00:00>], b'covid_cases:region': [<Cell value=b'Roma' timestamp=2021-05-08 14:05:37.003000+00:00>]}\n",
            "b'Lazio#2021-02-05T17:00:00+00:00' {b'covid_cases:confirmed_case': [<Cell value=b'150003' timestamp=2021-05-08 14:05:37.004000+00:00>], b'covid_cases:country': [<Cell value=b'ITA' timestamp=2021-05-08 14:05:37.003000+00:00>], b'covid_cases:province': [<Cell value=b'Lazio' timestamp=2021-05-08 14:05:37.004000+00:00>], b'covid_cases:region': [<Cell value=b'Roma' timestamp=2021-05-08 14:05:37.004000+00:00>]}\n",
            "b'Lazio#2021-02-23T17:00:00+00:00' {b'covid_cases:confirmed_case': [<Cell value=b'161647' timestamp=2021-05-08 14:05:37.004000+00:00>], b'covid_cases:country': [<Cell value=b'ITA' timestamp=2021-05-08 14:05:37.004000+00:00>], b'covid_cases:province': [<Cell value=b'Lazio' timestamp=2021-05-08 14:05:37.004000+00:00>], b'covid_cases:region': [<Cell value=b'Roma' timestamp=2021-05-08 14:05:37.004000+00:00>]}\n",
            "b'Lazio#ITA#Frosinone#2020-02-24T18:00:00+00:00' {b'covid_cases:confirmed_case': [<Cell value=b'0' timestamp=2021-05-08 14:36:41.348000+00:00>], b'covid_cases:country': [<Cell value=b'ITA' timestamp=2021-05-08 14:36:41.348000+00:00>], b'covid_cases:province': [<Cell value=b'Lazio' timestamp=2021-05-08 14:36:41.348000+00:00>], b'covid_cases:region': [<Cell value=b'Frosinone' timestamp=2021-05-08 14:36:41.348000+00:00>]}\n",
            "b'Lazio#ITA#Frosinone#2020-02-25T18:00:00+00:00' {b'covid_cases:confirmed_case': [<Cell value=b'0' timestamp=2021-05-08 14:36:41.325000+00:00>], b'covid_cases:country': [<Cell value=b'ITA' timestamp=2021-05-08 14:36:41.325000+00:00>], b'covid_cases:province': [<Cell value=b'Lazio' timestamp=2021-05-08 14:36:41.325000+00:00>], b'covid_cases:region': [<Cell value=b'Frosinone' timestamp=2021-05-08 14:36:41.325000+00:00>]}\n",
            "b'Lazio#ITA#Frosinone#2020-02-26T18:00:00+00:00' {b'covid_cases:confirmed_case': [<Cell value=b'0' timestamp=2021-05-08 14:36:41.324000+00:00>], b'covid_cases:country': [<Cell value=b'ITA' timestamp=2021-05-08 14:36:41.324000+00:00>], b'covid_cases:province': [<Cell value=b'Lazio' timestamp=2021-05-08 14:36:41.324000+00:00>], b'covid_cases:region': [<Cell value=b'Frosinone' timestamp=2021-05-08 14:36:41.324000+00:00>]}\n",
            "b'Lazio#ITA#Frosinone#2020-02-27T18:00:00+00:00' {b'covid_cases:confirmed_case': [<Cell value=b'0' timestamp=2021-05-08 14:36:41.374000+00:00>], b'covid_cases:country': [<Cell value=b'ITA' timestamp=2021-05-08 14:36:41.374000+00:00>], b'covid_cases:province': [<Cell value=b'Lazio' timestamp=2021-05-08 14:36:41.374000+00:00>], b'covid_cases:region': [<Cell value=b'Frosinone' timestamp=2021-05-08 14:36:41.374000+00:00>]}\n",
            "b'Lazio#ITA#Frosinone#2020-02-28T18:00:00+00:00' {b'covid_cases:confirmed_case': [<Cell value=b'0' timestamp=2021-05-08 14:36:41.360000+00:00>], b'covid_cases:country': [<Cell value=b'ITA' timestamp=2021-05-08 14:36:41.360000+00:00>], b'covid_cases:province': [<Cell value=b'Lazio' timestamp=2021-05-08 14:36:41.360000+00:00>], b'covid_cases:region': [<Cell value=b'Frosinone' timestamp=2021-05-08 14:36:41.360000+00:00>]}\n",
            "b'Lazio#ITA#Frosinone#2020-02-29T17:00:00+00:00' {b'covid_cases:confirmed_case': [<Cell value=b'0' timestamp=2021-05-08 14:36:41.331000+00:00>], b'covid_cases:country': [<Cell value=b'ITA' timestamp=2021-05-08 14:36:41.331000+00:00>], b'covid_cases:province': [<Cell value=b'Lazio' timestamp=2021-05-08 14:36:41.331000+00:00>], b'covid_cases:region': [<Cell value=b'Frosinone' timestamp=2021-05-08 14:36:41.331000+00:00>]}\n",
            "b'Lazio#ITA#Frosinone#2020-03-01T17:00:00+00:00' {b'covid_cases:confirmed_case': [<Cell value=b'0' timestamp=2021-05-08 14:36:41.370000+00:00>], b'covid_cases:country': [<Cell value=b'ITA' timestamp=2021-05-08 14:36:41.370000+00:00>], b'covid_cases:province': [<Cell value=b'Lazio' timestamp=2021-05-08 14:36:41.370000+00:00>], b'covid_cases:region': [<Cell value=b'Frosinone' timestamp=2021-05-08 14:36:41.370000+00:00>]}\n",
            "b'Lazio#ITA#Frosinone#2020-03-02T17:00:00+00:00' {b'covid_cases:confirmed_case': [<Cell value=b'0' timestamp=2021-05-08 14:36:41.325000+00:00>], b'covid_cases:country': [<Cell value=b'ITA' timestamp=2021-05-08 14:36:41.325000+00:00>], b'covid_cases:province': [<Cell value=b'Lazio' timestamp=2021-05-08 14:36:41.325000+00:00>], b'covid_cases:region': [<Cell value=b'Frosinone' timestamp=2021-05-08 14:36:41.325000+00:00>]}\n",
            "b'Lazio#ITA#Frosinone#2020-03-03T17:00:00+00:00' {b'covid_cases:confirmed_case': [<Cell value=b'0' timestamp=2021-05-08 14:36:41.325000+00:00>], b'covid_cases:country': [<Cell value=b'ITA' timestamp=2021-05-08 14:36:41.325000+00:00>], b'covid_cases:province': [<Cell value=b'Lazio' timestamp=2021-05-08 14:36:41.325000+00:00>], b'covid_cases:region': [<Cell value=b'Frosinone' timestamp=2021-05-08 14:36:41.325000+00:00>]}\n",
            "b'Lazio#ITA#Frosinone#2020-03-04T17:00:00+00:00' {b'covid_cases:confirmed_case': [<Cell value=b'1' timestamp=2021-05-08 14:36:41.367000+00:00>], b'covid_cases:country': [<Cell value=b'ITA' timestamp=2021-05-08 14:36:41.367000+00:00>], b'covid_cases:province': [<Cell value=b'Lazio' timestamp=2021-05-08 14:36:41.367000+00:00>], b'covid_cases:region': [<Cell value=b'Frosinone' timestamp=2021-05-08 14:36:41.367000+00:00>]}\n",
            "b'Lazio#ITA#Frosinone#2020-03-05T17:00:00+00:00' {b'covid_cases:confirmed_case': [<Cell value=b'1' timestamp=2021-05-08 14:36:41.369000+00:00>], b'covid_cases:country': [<Cell value=b'ITA' timestamp=2021-05-08 14:36:41.368000+00:00>], b'covid_cases:province': [<Cell value=b'Lazio' timestamp=2021-05-08 14:36:41.368000+00:00>], b'covid_cases:region': [<Cell value=b'Frosinone' timestamp=2021-05-08 14:36:41.369000+00:00>]}\n",
            "b'Lazio#ITA#Frosinone#2020-03-06T18:00:00+00:00' {b'covid_cases:confirmed_case': [<Cell value=b'1' timestamp=2021-05-08 14:36:41.325000+00:00>], b'covid_cases:country': [<Cell value=b'ITA' timestamp=2021-05-08 14:36:41.325000+00:00>], b'covid_cases:province': [<Cell value=b'Lazio' timestamp=2021-05-08 14:36:41.325000+00:00>], b'covid_cases:region': [<Cell value=b'Frosinone' timestamp=2021-05-08 14:36:41.325000+00:00>]}\n",
            "b'Lazio#ITA#Frosinone#2020-03-07T18:00:00+00:00' {b'covid_cases:confirmed_case': [<Cell value=b'1' timestamp=2021-05-08 14:36:41.361000+00:00>], b'covid_cases:country': [<Cell value=b'ITA' timestamp=2021-05-08 14:36:41.361000+00:00>], b'covid_cases:province': [<Cell value=b'Lazio' timestamp=2021-05-08 14:36:41.361000+00:00>], b'covid_cases:region': [<Cell value=b'Frosinone' timestamp=2021-05-08 14:36:41.361000+00:00>]}\n",
            "b'Lazio#ITA#Frosinone#2020-03-08T18:00:00+00:00' {b'covid_cases:confirmed_case': [<Cell value=b'2' timestamp=2021-05-08 14:36:41.326000+00:00>], b'covid_cases:country': [<Cell value=b'ITA' timestamp=2021-05-08 14:36:41.325000+00:00>], b'covid_cases:province': [<Cell value=b'Lazio' timestamp=2021-05-08 14:36:41.325000+00:00>], b'covid_cases:region': [<Cell value=b'Frosinone' timestamp=2021-05-08 14:36:41.325000+00:00>]}\n",
            "b'Lazio#ITA#Frosinone#2020-03-09T18:00:00+00:00' {b'covid_cases:confirmed_case': [<Cell value=b'2' timestamp=2021-05-08 14:36:41.331000+00:00>], b'covid_cases:country': [<Cell value=b'ITA' timestamp=2021-05-08 14:36:41.331000+00:00>], b'covid_cases:province': [<Cell value=b'Lazio' timestamp=2021-05-08 14:36:41.331000+00:00>], b'covid_cases:region': [<Cell value=b'Frosinone' timestamp=2021-05-08 14:36:41.331000+00:00>]}\n",
            "b'Lazio#ITA#Frosinone#2020-03-10T18:00:00+00:00' {b'covid_cases:confirmed_case': [<Cell value=b'6' timestamp=2021-05-08 14:36:41.371000+00:00>], b'covid_cases:country': [<Cell value=b'ITA' timestamp=2021-05-08 14:36:41.371000+00:00>], b'covid_cases:province': [<Cell value=b'Lazio' timestamp=2021-05-08 14:36:41.371000+00:00>], b'covid_cases:region': [<Cell value=b'Frosinone' timestamp=2021-05-08 14:36:41.371000+00:00>]}\n",
            "b'Lazio#ITA#Frosinone#2020-03-11T17:00:00+00:00' {b'covid_cases:confirmed_case': [<Cell value=b'8' timestamp=2021-05-08 14:36:41.359000+00:00>], b'covid_cases:country': [<Cell value=b'ITA' timestamp=2021-05-08 14:36:41.359000+00:00>], b'covid_cases:province': [<Cell value=b'Lazio' timestamp=2021-05-08 14:36:41.359000+00:00>], b'covid_cases:region': [<Cell value=b'Frosinone' timestamp=2021-05-08 14:36:41.359000+00:00>]}\n",
            "b'Lazio#ITA#Frosinone#2020-03-12T17:00:00+00:00' {b'covid_cases:confirmed_case': [<Cell value=b'18' timestamp=2021-05-08 14:36:41.372000+00:00>], b'covid_cases:country': [<Cell value=b'ITA' timestamp=2021-05-08 14:36:41.372000+00:00>], b'covid_cases:province': [<Cell value=b'Lazio' timestamp=2021-05-08 14:36:41.372000+00:00>], b'covid_cases:region': [<Cell value=b'Frosinone' timestamp=2021-05-08 14:36:41.372000+00:00>]}\n",
            "b'Lazio#ITA#Frosinone#2020-03-13T17:00:00+00:00' {b'covid_cases:confirmed_case': [<Cell value=b'28' timestamp=2021-05-08 14:36:41.333000+00:00>], b'covid_cases:country': [<Cell value=b'ITA' timestamp=2021-05-08 14:36:41.333000+00:00>], b'covid_cases:province': [<Cell value=b'Lazio' timestamp=2021-05-08 14:36:41.333000+00:00>], b'covid_cases:region': [<Cell value=b'Frosinone' timestamp=2021-05-08 14:36:41.333000+00:00>]}\n",
            "b'Lazio#ITA#Frosinone#2020-03-14T17:00:00+00:00' {b'covid_cases:confirmed_case': [<Cell value=b'28' timestamp=2021-05-08 14:36:41.358000+00:00>], b'covid_cases:country': [<Cell value=b'ITA' timestamp=2021-05-08 14:36:41.358000+00:00>], b'covid_cases:province': [<Cell value=b'Lazio' timestamp=2021-05-08 14:36:41.358000+00:00>], b'covid_cases:region': [<Cell value=b'Frosinone' timestamp=2021-05-08 14:36:41.358000+00:00>]}\n",
            "b'Lazio#ITA#Frosinone#2020-03-15T17:00:00+00:00' {b'covid_cases:confirmed_case': [<Cell value=b'34' timestamp=2021-05-08 14:36:41.353000+00:00>], b'covid_cases:country': [<Cell value=b'ITA' timestamp=2021-05-08 14:36:41.353000+00:00>], b'covid_cases:province': [<Cell value=b'Lazio' timestamp=2021-05-08 14:36:41.353000+00:00>], b'covid_cases:region': [<Cell value=b'Frosinone' timestamp=2021-05-08 14:36:41.353000+00:00>]}\n",
            "b'Lazio#ITA#Frosinone#2020-03-16T17:00:00+00:00' {b'covid_cases:confirmed_case': [<Cell value=b'44' timestamp=2021-05-08 14:36:41.329000+00:00>], b'covid_cases:country': [<Cell value=b'ITA' timestamp=2021-05-08 14:36:41.329000+00:00>], b'covid_cases:province': [<Cell value=b'Lazio' timestamp=2021-05-08 14:36:41.329000+00:00>], b'covid_cases:region': [<Cell value=b'Frosinone' timestamp=2021-05-08 14:36:41.329000+00:00>]}\n",
            "b'Lazio#ITA#Frosinone#2020-03-17T17:00:00+00:00' {b'covid_cases:confirmed_case': [<Cell value=b'49' timestamp=2021-05-08 14:36:41.354000+00:00>], b'covid_cases:country': [<Cell value=b'ITA' timestamp=2021-05-08 14:36:41.354000+00:00>], b'covid_cases:province': [<Cell value=b'Lazio' timestamp=2021-05-08 14:36:41.354000+00:00>], b'covid_cases:region': [<Cell value=b'Frosinone' timestamp=2021-05-08 14:36:41.354000+00:00>]}\n",
            "b'Lazio#ITA#Frosinone#2020-03-18T17:00:00+00:00' {b'covid_cases:confirmed_case': [<Cell value=b'54' timestamp=2021-05-08 14:36:41.334000+00:00>], b'covid_cases:country': [<Cell value=b'ITA' timestamp=2021-05-08 14:36:41.334000+00:00>], b'covid_cases:province': [<Cell value=b'Lazio' timestamp=2021-05-08 14:36:41.334000+00:00>], b'covid_cases:region': [<Cell value=b'Frosinone' timestamp=2021-05-08 14:36:41.334000+00:00>]}\n",
            "b'Lazio#ITA#Frosinone#2020-03-19T17:00:00+00:00' {b'covid_cases:confirmed_case': [<Cell value=b'48' timestamp=2021-05-08 14:36:41.353000+00:00>], b'covid_cases:country': [<Cell value=b'ITA' timestamp=2021-05-08 14:36:41.353000+00:00>], b'covid_cases:province': [<Cell value=b'Lazio' timestamp=2021-05-08 14:36:41.353000+00:00>], b'covid_cases:region': [<Cell value=b'Frosinone' timestamp=2021-05-08 14:36:41.353000+00:00>]}\n",
            "b'Lazio#ITA#Frosinone#2020-03-20T17:00:00+00:00' {b'covid_cases:confirmed_case': [<Cell value=b'52' timestamp=2021-05-08 14:36:41.333000+00:00>], b'covid_cases:country': [<Cell value=b'ITA' timestamp=2021-05-08 14:36:41.333000+00:00>], b'covid_cases:province': [<Cell value=b'Lazio' timestamp=2021-05-08 14:36:41.333000+00:00>], b'covid_cases:region': [<Cell value=b'Frosinone' timestamp=2021-05-08 14:36:41.333000+00:00>]}\n",
            "b'Lazio#ITA#Frosinone#2020-03-21T17:00:00+00:00' {b'covid_cases:confirmed_case': [<Cell value=b'59' timestamp=2021-05-08 14:36:41.330000+00:00>], b'covid_cases:country': [<Cell value=b'ITA' timestamp=2021-05-08 14:36:41.330000+00:00>], b'covid_cases:province': [<Cell value=b'Lazio' timestamp=2021-05-08 14:36:41.330000+00:00>], b'covid_cases:region': [<Cell value=b'Frosinone' timestamp=2021-05-08 14:36:41.330000+00:00>]}\n",
            "b'Lazio#ITA#Frosinone#2020-03-22T17:00:00+00:00' {b'covid_cases:confirmed_case': [<Cell value=b'78' timestamp=2021-05-08 14:36:41.332000+00:00>], b'covid_cases:country': [<Cell value=b'ITA' timestamp=2021-05-08 14:36:41.332000+00:00>], b'covid_cases:province': [<Cell value=b'Lazio' timestamp=2021-05-08 14:36:41.332000+00:00>], b'covid_cases:region': [<Cell value=b'Frosinone' timestamp=2021-05-08 14:36:41.332000+00:00>]}\n",
            "b'Lazio#ITA#Frosinone#2020-03-23T17:00:00+00:00' {b'covid_cases:confirmed_case': [<Cell value=b'82' timestamp=2021-05-08 14:36:41.353000+00:00>], b'covid_cases:country': [<Cell value=b'ITA' timestamp=2021-05-08 14:36:41.353000+00:00>], b'covid_cases:province': [<Cell value=b'Lazio' timestamp=2021-05-08 14:36:41.353000+00:00>], b'covid_cases:region': [<Cell value=b'Frosinone' timestamp=2021-05-08 14:36:41.353000+00:00>]}\n",
            "b'Lazio#ITA#Frosinone#2020-03-24T17:00:00+00:00' {b'covid_cases:confirmed_case': [<Cell value=b'97' timestamp=2021-05-08 14:36:41.336000+00:00>], b'covid_cases:country': [<Cell value=b'ITA' timestamp=2021-05-08 14:36:41.336000+00:00>], b'covid_cases:province': [<Cell value=b'Lazio' timestamp=2021-05-08 14:36:41.336000+00:00>], b'covid_cases:region': [<Cell value=b'Frosinone' timestamp=2021-05-08 14:36:41.336000+00:00>]}\n",
            "b'Lazio#ITA#Frosinone#2020-03-25T17:00:00+00:00' {b'covid_cases:confirmed_case': [<Cell value=b'106' timestamp=2021-05-08 14:36:41.324000+00:00>], b'covid_cases:country': [<Cell value=b'ITA' timestamp=2021-05-08 14:36:41.324000+00:00>], b'covid_cases:province': [<Cell value=b'Lazio' timestamp=2021-05-08 14:36:41.324000+00:00>], b'covid_cases:region': [<Cell value=b'Frosinone' timestamp=2021-05-08 14:36:41.324000+00:00>]}\n",
            "b'Lazio#ITA#Frosinone#2020-03-26T17:00:00+00:00' {b'covid_cases:confirmed_case': [<Cell value=b'156' timestamp=2021-05-08 14:36:41.370000+00:00>], b'covid_cases:country': [<Cell value=b'ITA' timestamp=2021-05-08 14:36:41.370000+00:00>], b'covid_cases:province': [<Cell value=b'Lazio' timestamp=2021-05-08 14:36:41.370000+00:00>], b'covid_cases:region': [<Cell value=b'Frosinone' timestamp=2021-05-08 14:36:41.370000+00:00>]}\n",
            "b'Lazio#ITA#Frosinone#2020-03-27T17:00:00+00:00' {b'covid_cases:confirmed_case': [<Cell value=b'191' timestamp=2021-05-08 14:36:41.373000+00:00>], b'covid_cases:country': [<Cell value=b'ITA' timestamp=2021-05-08 14:36:41.372000+00:00>], b'covid_cases:province': [<Cell value=b'Lazio' timestamp=2021-05-08 14:36:41.373000+00:00>], b'covid_cases:region': [<Cell value=b'Frosinone' timestamp=2021-05-08 14:36:41.373000+00:00>]}\n",
            "b'Lazio#ITA#Frosinone#2020-03-28T17:00:00+00:00' {b'covid_cases:confirmed_case': [<Cell value=b'232' timestamp=2021-05-08 14:36:41.327000+00:00>], b'covid_cases:country': [<Cell value=b'ITA' timestamp=2021-05-08 14:36:41.327000+00:00>], b'covid_cases:province': [<Cell value=b'Lazio' timestamp=2021-05-08 14:36:41.327000+00:00>], b'covid_cases:region': [<Cell value=b'Frosinone' timestamp=2021-05-08 14:36:41.327000+00:00>]}\n",
            "b'Lazio#ITA#Frosinone#2020-03-29T17:00:00+00:00' {b'covid_cases:confirmed_case': [<Cell value=b'252' timestamp=2021-05-08 14:36:41.371000+00:00>], b'covid_cases:country': [<Cell value=b'ITA' timestamp=2021-05-08 14:36:41.371000+00:00>], b'covid_cases:province': [<Cell value=b'Lazio' timestamp=2021-05-08 14:36:41.371000+00:00>], b'covid_cases:region': [<Cell value=b'Frosinone' timestamp=2021-05-08 14:36:41.371000+00:00>]}\n",
            "b'Lazio#ITA#Frosinone#2020-03-30T17:00:00+00:00' {b'covid_cases:confirmed_case': [<Cell value=b'290' timestamp=2021-05-08 14:36:41.358000+00:00>], b'covid_cases:country': [<Cell value=b'ITA' timestamp=2021-05-08 14:36:41.358000+00:00>], b'covid_cases:province': [<Cell value=b'Lazio' timestamp=2021-05-08 14:36:41.358000+00:00>], b'covid_cases:region': [<Cell value=b'Frosinone' timestamp=2021-05-08 14:36:41.358000+00:00>]}\n",
            "b'Lazio#ITA#Frosinone#2020-03-31T17:00:00+00:00' {b'covid_cases:confirmed_case': [<Cell value=b'321' timestamp=2021-05-08 14:36:41.358000+00:00>], b'covid_cases:country': [<Cell value=b'ITA' timestamp=2021-05-08 14:36:41.358000+00:00>], b'covid_cases:province': [<Cell value=b'Lazio' timestamp=2021-05-08 14:36:41.358000+00:00>], b'covid_cases:region': [<Cell value=b'Frosinone' timestamp=2021-05-08 14:36:41.358000+00:00>]}\n",
            "b'Lazio#ITA#Frosinone#2020-04-01T17:00:00+00:00' {b'covid_cases:confirmed_case': [<Cell value=b'329' timestamp=2021-05-08 14:36:41.360000+00:00>], b'covid_cases:country': [<Cell value=b'ITA' timestamp=2021-05-08 14:36:41.360000+00:00>], b'covid_cases:province': [<Cell value=b'Lazio' timestamp=2021-05-08 14:36:41.360000+00:00>], b'covid_cases:region': [<Cell value=b'Frosinone' timestamp=2021-05-08 14:36:41.360000+00:00>]}\n",
            "b'Lazio#ITA#Frosinone#2020-04-02T17:00:00+00:00' {b'covid_cases:confirmed_case': [<Cell value=b'334' timestamp=2021-05-08 14:36:41.330000+00:00>], b'covid_cases:country': [<Cell value=b'ITA' timestamp=2021-05-08 14:36:41.330000+00:00>], b'covid_cases:province': [<Cell value=b'Lazio' timestamp=2021-05-08 14:36:41.330000+00:00>], b'covid_cases:region': [<Cell value=b'Frosinone' timestamp=2021-05-08 14:36:41.330000+00:00>]}\n",
            "b'Lazio#ITA#Frosinone#2020-04-03T17:00:00+00:00' {b'covid_cases:confirmed_case': [<Cell value=b'354' timestamp=2021-05-08 14:36:41.372000+00:00>], b'covid_cases:country': [<Cell value=b'ITA' timestamp=2021-05-08 14:36:41.371000+00:00>], b'covid_cases:province': [<Cell value=b'Lazio' timestamp=2021-05-08 14:36:41.371000+00:00>], b'covid_cases:region': [<Cell value=b'Frosinone' timestamp=2021-05-08 14:36:41.371000+00:00>]}\n",
            "b'Lazio#ITA#Frosinone#2020-04-04T17:00:00+00:00' {b'covid_cases:confirmed_case': [<Cell value=b'364' timestamp=2021-05-08 14:36:41.332000+00:00>], b'covid_cases:country': [<Cell value=b'ITA' timestamp=2021-05-08 14:36:41.332000+00:00>], b'covid_cases:province': [<Cell value=b'Lazio' timestamp=2021-05-08 14:36:41.332000+00:00>], b'covid_cases:region': [<Cell value=b'Frosinone' timestamp=2021-05-08 14:36:41.332000+00:00>]}\n",
            "b'Lazio#ITA#Frosinone#2020-04-05T17:00:00+00:00' {b'covid_cases:confirmed_case': [<Cell value=b'369' timestamp=2021-05-08 14:36:41.341000+00:00>], b'covid_cases:country': [<Cell value=b'ITA' timestamp=2021-05-08 14:36:41.341000+00:00>], b'covid_cases:province': [<Cell value=b'Lazio' timestamp=2021-05-08 14:36:41.341000+00:00>], b'covid_cases:region': [<Cell value=b'Frosinone' timestamp=2021-05-08 14:36:41.341000+00:00>]}\n",
            "b'Lazio#ITA#Frosinone#2020-04-06T17:00:00+00:00' {b'covid_cases:confirmed_case': [<Cell value=b'374' timestamp=2021-05-08 14:36:41.353000+00:00>], b'covid_cases:country': [<Cell value=b'ITA' timestamp=2021-05-08 14:36:41.353000+00:00>], b'covid_cases:province': [<Cell value=b'Lazio' timestamp=2021-05-08 14:36:41.353000+00:00>], b'covid_cases:region': [<Cell value=b'Frosinone' timestamp=2021-05-08 14:36:41.353000+00:00>]}\n",
            "b'Lazio#ITA#Frosinone#2020-04-07T17:00:00+00:00' {b'covid_cases:confirmed_case': [<Cell value=b'401' timestamp=2021-05-08 14:36:41.335000+00:00>], b'covid_cases:country': [<Cell value=b'ITA' timestamp=2021-05-08 14:36:41.335000+00:00>], b'covid_cases:province': [<Cell value=b'Lazio' timestamp=2021-05-08 14:36:41.335000+00:00>], b'covid_cases:region': [<Cell value=b'Frosinone' timestamp=2021-05-08 14:36:41.335000+00:00>]}\n",
            "b'Lazio#ITA#Frosinone#2020-04-08T17:00:00+00:00' {b'covid_cases:confirmed_case': [<Cell value=b'425' timestamp=2021-05-08 14:36:41.363000+00:00>], b'covid_cases:country': [<Cell value=b'ITA' timestamp=2021-05-08 14:36:41.363000+00:00>], b'covid_cases:province': [<Cell value=b'Lazio' timestamp=2021-05-08 14:36:41.363000+00:00>], b'covid_cases:region': [<Cell value=b'Frosinone' timestamp=2021-05-08 14:36:41.363000+00:00>]}\n",
            "b'Lazio#ITA#Frosinone#2020-04-09T17:00:00+00:00' {b'covid_cases:confirmed_case': [<Cell value=b'441' timestamp=2021-05-08 14:36:41.331000+00:00>], b'covid_cases:country': [<Cell value=b'ITA' timestamp=2021-05-08 14:36:41.331000+00:00>], b'covid_cases:province': [<Cell value=b'Lazio' timestamp=2021-05-08 14:36:41.331000+00:00>], b'covid_cases:region': [<Cell value=b'Frosinone' timestamp=2021-05-08 14:36:41.331000+00:00>]}\n",
            "b'Lazio#ITA#Frosinone#2020-04-10T17:00:00+00:00' {b'covid_cases:confirmed_case': [<Cell value=b'463' timestamp=2021-05-08 14:36:41.325000+00:00>], b'covid_cases:country': [<Cell value=b'ITA' timestamp=2021-05-08 14:36:41.325000+00:00>], b'covid_cases:province': [<Cell value=b'Lazio' timestamp=2021-05-08 14:36:41.325000+00:00>], b'covid_cases:region': [<Cell value=b'Frosinone' timestamp=2021-05-08 14:36:41.325000+00:00>]}\n",
            "b'Lazio#ITA#Frosinone#2020-04-11T17:00:00+00:00' {b'covid_cases:confirmed_case': [<Cell value=b'469' timestamp=2021-05-08 14:36:41.326000+00:00>], b'covid_cases:country': [<Cell value=b'ITA' timestamp=2021-05-08 14:36:41.326000+00:00>], b'covid_cases:province': [<Cell value=b'Lazio' timestamp=2021-05-08 14:36:41.326000+00:00>], b'covid_cases:region': [<Cell value=b'Frosinone' timestamp=2021-05-08 14:36:41.326000+00:00>]}\n",
            "b'Lazio#ITA#Frosinone#2020-04-12T17:00:00+00:00' {b'covid_cases:confirmed_case': [<Cell value=b'473' timestamp=2021-05-08 14:36:41.356000+00:00>], b'covid_cases:country': [<Cell value=b'ITA' timestamp=2021-05-08 14:36:41.356000+00:00>], b'covid_cases:province': [<Cell value=b'Lazio' timestamp=2021-05-08 14:36:41.356000+00:00>], b'covid_cases:region': [<Cell value=b'Frosinone' timestamp=2021-05-08 14:36:41.356000+00:00>]}\n",
            "b'Lazio#ITA#Frosinone#2020-04-13T17:00:00+00:00' {b'covid_cases:confirmed_case': [<Cell value=b'472' timestamp=2021-05-08 14:36:41.349000+00:00>], b'covid_cases:country': [<Cell value=b'ITA' timestamp=2021-05-08 14:36:41.349000+00:00>], b'covid_cases:province': [<Cell value=b'Lazio' timestamp=2021-05-08 14:36:41.349000+00:00>], b'covid_cases:region': [<Cell value=b'Frosinone' timestamp=2021-05-08 14:36:41.349000+00:00>]}\n",
            "b'Lazio#ITA#Frosinone#2020-04-14T17:00:00+00:00' {b'covid_cases:confirmed_case': [<Cell value=b'473' timestamp=2021-05-08 14:36:41.360000+00:00>], b'covid_cases:country': [<Cell value=b'ITA' timestamp=2021-05-08 14:36:41.360000+00:00>], b'covid_cases:province': [<Cell value=b'Lazio' timestamp=2021-05-08 14:36:41.360000+00:00>], b'covid_cases:region': [<Cell value=b'Frosinone' timestamp=2021-05-08 14:36:41.360000+00:00>]}\n",
            "b'Lazio#ITA#Frosinone#2020-04-15T17:00:00+00:00' {b'covid_cases:confirmed_case': [<Cell value=b'479' timestamp=2021-05-08 14:36:41.324000+00:00>], b'covid_cases:country': [<Cell value=b'ITA' timestamp=2021-05-08 14:36:41.324000+00:00>], b'covid_cases:province': [<Cell value=b'Lazio' timestamp=2021-05-08 14:36:41.324000+00:00>], b'covid_cases:region': [<Cell value=b'Frosinone' timestamp=2021-05-08 14:36:41.324000+00:00>]}\n",
            "b'Lazio#ITA#Frosinone#2020-04-16T17:00:00+00:00' {b'covid_cases:confirmed_case': [<Cell value=b'497' timestamp=2021-05-08 14:36:41.339000+00:00>], b'covid_cases:country': [<Cell value=b'ITA' timestamp=2021-05-08 14:36:41.339000+00:00>], b'covid_cases:province': [<Cell value=b'Lazio' timestamp=2021-05-08 14:36:41.339000+00:00>], b'covid_cases:region': [<Cell value=b'Frosinone' timestamp=2021-05-08 14:36:41.339000+00:00>]}\n",
            "b'Lazio#ITA#Frosinone#2020-04-17T17:00:00+00:00' {b'covid_cases:confirmed_case': [<Cell value=b'502' timestamp=2021-05-08 14:36:41.351000+00:00>], b'covid_cases:country': [<Cell value=b'ITA' timestamp=2021-05-08 14:36:41.351000+00:00>], b'covid_cases:province': [<Cell value=b'Lazio' timestamp=2021-05-08 14:36:41.351000+00:00>], b'covid_cases:region': [<Cell value=b'Frosinone' timestamp=2021-05-08 14:36:41.351000+00:00>]}\n",
            "b'Lazio#ITA#Frosinone#2020-04-18T17:00:00+00:00' {b'covid_cases:confirmed_case': [<Cell value=b'505' timestamp=2021-05-08 14:36:41.347000+00:00>], b'covid_cases:country': [<Cell value=b'ITA' timestamp=2021-05-08 14:36:41.347000+00:00>], b'covid_cases:province': [<Cell value=b'Lazio' timestamp=2021-05-08 14:36:41.347000+00:00>], b'covid_cases:region': [<Cell value=b'Frosinone' timestamp=2021-05-08 14:36:41.347000+00:00>]}\n",
            "b'Lazio#ITA#Frosinone#2020-04-19T17:00:00+00:00' {b'covid_cases:confirmed_case': [<Cell value=b'521' timestamp=2021-05-08 14:36:41.358000+00:00>], b'covid_cases:country': [<Cell value=b'ITA' timestamp=2021-05-08 14:36:41.358000+00:00>], b'covid_cases:province': [<Cell value=b'Lazio' timestamp=2021-05-08 14:36:41.358000+00:00>], b'covid_cases:region': [<Cell value=b'Frosinone' timestamp=2021-05-08 14:36:41.358000+00:00>]}\n",
            "b'Lazio#ITA#Frosinone#2020-04-20T17:00:00+00:00' {b'covid_cases:confirmed_case': [<Cell value=b'525' timestamp=2021-05-08 14:36:41.366000+00:00>], b'covid_cases:country': [<Cell value=b'ITA' timestamp=2021-05-08 14:36:41.365000+00:00>], b'covid_cases:province': [<Cell value=b'Lazio' timestamp=2021-05-08 14:36:41.365000+00:00>], b'covid_cases:region': [<Cell value=b'Frosinone' timestamp=2021-05-08 14:36:41.365000+00:00>]}\n",
            "b'Lazio#ITA#Frosinone#2020-04-21T17:00:00+00:00' {b'covid_cases:confirmed_case': [<Cell value=b'533' timestamp=2021-05-08 14:36:41.354000+00:00>], b'covid_cases:country': [<Cell value=b'ITA' timestamp=2021-05-08 14:36:41.354000+00:00>], b'covid_cases:province': [<Cell value=b'Lazio' timestamp=2021-05-08 14:36:41.354000+00:00>], b'covid_cases:region': [<Cell value=b'Frosinone' timestamp=2021-05-08 14:36:41.354000+00:00>]}\n",
            "b'Lazio#ITA#Frosinone#2020-04-22T17:00:00+00:00' {b'covid_cases:confirmed_case': [<Cell value=b'542' timestamp=2021-05-08 14:36:41.361000+00:00>], b'covid_cases:country': [<Cell value=b'ITA' timestamp=2021-05-08 14:36:41.361000+00:00>], b'covid_cases:province': [<Cell value=b'Lazio' timestamp=2021-05-08 14:36:41.361000+00:00>], b'covid_cases:region': [<Cell value=b'Frosinone' timestamp=2021-05-08 14:36:41.361000+00:00>]}\n",
            "b'Lazio#ITA#Frosinone#2020-04-23T17:00:00+00:00' {b'covid_cases:confirmed_case': [<Cell value=b'544' timestamp=2021-05-08 14:36:41.330000+00:00>], b'covid_cases:country': [<Cell value=b'ITA' timestamp=2021-05-08 14:36:41.330000+00:00>], b'covid_cases:province': [<Cell value=b'Lazio' timestamp=2021-05-08 14:36:41.330000+00:00>], b'covid_cases:region': [<Cell value=b'Frosinone' timestamp=2021-05-08 14:36:41.330000+00:00>]}\n",
            "b'Lazio#ITA#Frosinone#2020-04-24T17:00:00+00:00' {b'covid_cases:confirmed_case': [<Cell value=b'547' timestamp=2021-05-08 14:36:41.356000+00:00>], b'covid_cases:country': [<Cell value=b'ITA' timestamp=2021-05-08 14:36:41.356000+00:00>], b'covid_cases:province': [<Cell value=b'Lazio' timestamp=2021-05-08 14:36:41.356000+00:00>], b'covid_cases:region': [<Cell value=b'Frosinone' timestamp=2021-05-08 14:36:41.356000+00:00>]}\n",
            "b'Lazio#ITA#Frosinone#2020-04-25T17:00:00+00:00' {b'covid_cases:confirmed_case': [<Cell value=b'547' timestamp=2021-05-08 14:36:41.362000+00:00>], b'covid_cases:country': [<Cell value=b'ITA' timestamp=2021-05-08 14:36:41.362000+00:00>], b'covid_cases:province': [<Cell value=b'Lazio' timestamp=2021-05-08 14:36:41.362000+00:00>], b'covid_cases:region': [<Cell value=b'Frosinone' timestamp=2021-05-08 14:36:41.362000+00:00>]}\n",
            "b'Lazio#ITA#Frosinone#2020-04-26T17:00:00+00:00' {b'covid_cases:confirmed_case': [<Cell value=b'554' timestamp=2021-05-08 14:36:41.352000+00:00>], b'covid_cases:country': [<Cell value=b'ITA' timestamp=2021-05-08 14:36:41.352000+00:00>], b'covid_cases:province': [<Cell value=b'Lazio' timestamp=2021-05-08 14:36:41.352000+00:00>], b'covid_cases:region': [<Cell value=b'Frosinone' timestamp=2021-05-08 14:36:41.352000+00:00>]}\n",
            "b'Lazio#ITA#Frosinone#2020-04-27T17:00:00+00:00' {b'covid_cases:confirmed_case': [<Cell value=b'555' timestamp=2021-05-08 14:36:41.352000+00:00>], b'covid_cases:country': [<Cell value=b'ITA' timestamp=2021-05-08 14:36:41.352000+00:00>], b'covid_cases:province': [<Cell value=b'Lazio' timestamp=2021-05-08 14:36:41.352000+00:00>], b'covid_cases:region': [<Cell value=b'Frosinone' timestamp=2021-05-08 14:36:41.352000+00:00>]}\n",
            "b'Lazio#ITA#Frosinone#2020-04-28T17:00:00+00:00' {b'covid_cases:confirmed_case': [<Cell value=b'556' timestamp=2021-05-08 14:36:41.352000+00:00>], b'covid_cases:country': [<Cell value=b'ITA' timestamp=2021-05-08 14:36:41.352000+00:00>], b'covid_cases:province': [<Cell value=b'Lazio' timestamp=2021-05-08 14:36:41.352000+00:00>], b'covid_cases:region': [<Cell value=b'Frosinone' timestamp=2021-05-08 14:36:41.352000+00:00>]}\n",
            "b'Lazio#ITA#Frosinone#2020-04-29T17:00:00+00:00' {b'covid_cases:confirmed_case': [<Cell value=b'565' timestamp=2021-05-08 14:36:41.331000+00:00>], b'covid_cases:country': [<Cell value=b'ITA' timestamp=2021-05-08 14:36:41.331000+00:00>], b'covid_cases:province': [<Cell value=b'Lazio' timestamp=2021-05-08 14:36:41.331000+00:00>], b'covid_cases:region': [<Cell value=b'Frosinone' timestamp=2021-05-08 14:36:41.331000+00:00>]}\n",
            "b'Lazio#ITA#Frosinone#2020-04-30T17:00:00+00:00' {b'covid_cases:confirmed_case': [<Cell value=b'566' timestamp=2021-05-08 14:36:41.328000+00:00>], b'covid_cases:country': [<Cell value=b'ITA' timestamp=2021-05-08 14:36:41.328000+00:00>], b'covid_cases:province': [<Cell value=b'Lazio' timestamp=2021-05-08 14:36:41.328000+00:00>], b'covid_cases:region': [<Cell value=b'Frosinone' timestamp=2021-05-08 14:36:41.328000+00:00>]}\n",
            "b'Lazio#ITA#Frosinone#2020-05-01T17:00:00+00:00' {b'covid_cases:confirmed_case': [<Cell value=b'567' timestamp=2021-05-08 14:36:41.367000+00:00>], b'covid_cases:country': [<Cell value=b'ITA' timestamp=2021-05-08 14:36:41.367000+00:00>], b'covid_cases:province': [<Cell value=b'Lazio' timestamp=2021-05-08 14:36:41.367000+00:00>], b'covid_cases:region': [<Cell value=b'Frosinone' timestamp=2021-05-08 14:36:41.367000+00:00>]}\n",
            "b'Lazio#ITA#Frosinone#2020-05-02T17:00:00+00:00' {b'covid_cases:confirmed_case': [<Cell value=b'567' timestamp=2021-05-08 14:36:41.341000+00:00>], b'covid_cases:country': [<Cell value=b'ITA' timestamp=2021-05-08 14:36:41.341000+00:00>], b'covid_cases:province': [<Cell value=b'Lazio' timestamp=2021-05-08 14:36:41.341000+00:00>], b'covid_cases:region': [<Cell value=b'Frosinone' timestamp=2021-05-08 14:36:41.341000+00:00>]}\n",
            "b'Lazio#ITA#Frosinone#2020-05-03T17:00:00+00:00' {b'covid_cases:confirmed_case': [<Cell value=b'567' timestamp=2021-05-08 14:36:41.327000+00:00>], b'covid_cases:country': [<Cell value=b'ITA' timestamp=2021-05-08 14:36:41.327000+00:00>], b'covid_cases:province': [<Cell value=b'Lazio' timestamp=2021-05-08 14:36:41.327000+00:00>], b'covid_cases:region': [<Cell value=b'Frosinone' timestamp=2021-05-08 14:36:41.327000+00:00>]}\n",
            "b'Lazio#ITA#Frosinone#2020-05-04T17:00:00+00:00' {b'covid_cases:confirmed_case': [<Cell value=b'567' timestamp=2021-05-08 14:36:41.370000+00:00>], b'covid_cases:country': [<Cell value=b'ITA' timestamp=2021-05-08 14:36:41.370000+00:00>], b'covid_cases:province': [<Cell value=b'Lazio' timestamp=2021-05-08 14:36:41.370000+00:00>], b'covid_cases:region': [<Cell value=b'Frosinone' timestamp=2021-05-08 14:36:41.370000+00:00>]}\n",
            "b'Lazio#ITA#Frosinone#2020-05-05T17:00:00+00:00' {b'covid_cases:confirmed_case': [<Cell value=b'571' timestamp=2021-05-08 14:36:41.362000+00:00>], b'covid_cases:country': [<Cell value=b'ITA' timestamp=2021-05-08 14:36:41.362000+00:00>], b'covid_cases:province': [<Cell value=b'Lazio' timestamp=2021-05-08 14:36:41.362000+00:00>], b'covid_cases:region': [<Cell value=b'Frosinone' timestamp=2021-05-08 14:36:41.362000+00:00>]}\n",
            "b'Lazio#ITA#Frosinone#2020-05-06T17:00:00+00:00' {b'covid_cases:confirmed_case': [<Cell value=b'571' timestamp=2021-05-08 14:36:41.334000+00:00>], b'covid_cases:country': [<Cell value=b'ITA' timestamp=2021-05-08 14:36:41.334000+00:00>], b'covid_cases:province': [<Cell value=b'Lazio' timestamp=2021-05-08 14:36:41.334000+00:00>], b'covid_cases:region': [<Cell value=b'Frosinone' timestamp=2021-05-08 14:36:41.334000+00:00>]}\n",
            "b'Lazio#ITA#Frosinone#2020-05-07T17:00:00+00:00' {b'covid_cases:confirmed_case': [<Cell value=b'573' timestamp=2021-05-08 14:36:41.348000+00:00>], b'covid_cases:country': [<Cell value=b'ITA' timestamp=2021-05-08 14:36:41.348000+00:00>], b'covid_cases:province': [<Cell value=b'Lazio' timestamp=2021-05-08 14:36:41.348000+00:00>], b'covid_cases:region': [<Cell value=b'Frosinone' timestamp=2021-05-08 14:36:41.348000+00:00>]}\n",
            "b'Lazio#ITA#Frosinone#2020-05-08T17:00:00+00:00' {b'covid_cases:confirmed_case': [<Cell value=b'573' timestamp=2021-05-08 14:36:41.348000+00:00>], b'covid_cases:country': [<Cell value=b'ITA' timestamp=2021-05-08 14:36:41.348000+00:00>], b'covid_cases:province': [<Cell value=b'Lazio' timestamp=2021-05-08 14:36:41.348000+00:00>], b'covid_cases:region': [<Cell value=b'Frosinone' timestamp=2021-05-08 14:36:41.348000+00:00>]}\n",
            "b'Lazio#ITA#Frosinone#2020-05-09T17:00:00+00:00' {b'covid_cases:confirmed_case': [<Cell value=b'576' timestamp=2021-05-08 14:36:41.373000+00:00>], b'covid_cases:country': [<Cell value=b'ITA' timestamp=2021-05-08 14:36:41.373000+00:00>], b'covid_cases:province': [<Cell value=b'Lazio' timestamp=2021-05-08 14:36:41.373000+00:00>], b'covid_cases:region': [<Cell value=b'Frosinone' timestamp=2021-05-08 14:36:41.373000+00:00>]}\n",
            "b'Lazio#ITA#Frosinone#2020-05-10T17:00:00+00:00' {b'covid_cases:confirmed_case': [<Cell value=b'578' timestamp=2021-05-08 14:36:41.373000+00:00>], b'covid_cases:country': [<Cell value=b'ITA' timestamp=2021-05-08 14:36:41.373000+00:00>], b'covid_cases:province': [<Cell value=b'Lazio' timestamp=2021-05-08 14:36:41.373000+00:00>], b'covid_cases:region': [<Cell value=b'Frosinone' timestamp=2021-05-08 14:36:41.373000+00:00>]}\n",
            "b'Lazio#ITA#Frosinone#2020-05-11T17:00:00+00:00' {b'covid_cases:confirmed_case': [<Cell value=b'579' timestamp=2021-05-08 14:36:41.325000+00:00>], b'covid_cases:country': [<Cell value=b'ITA' timestamp=2021-05-08 14:36:41.325000+00:00>], b'covid_cases:province': [<Cell value=b'Lazio' timestamp=2021-05-08 14:36:41.325000+00:00>], b'covid_cases:region': [<Cell value=b'Frosinone' timestamp=2021-05-08 14:36:41.325000+00:00>]}\n",
            "b'Lazio#ITA#Frosinone#2020-05-12T17:00:00+00:00' {b'covid_cases:confirmed_case': [<Cell value=b'579' timestamp=2021-05-08 14:36:41.334000+00:00>], b'covid_cases:country': [<Cell value=b'ITA' timestamp=2021-05-08 14:36:41.334000+00:00>], b'covid_cases:province': [<Cell value=b'Lazio' timestamp=2021-05-08 14:36:41.334000+00:00>], b'covid_cases:region': [<Cell value=b'Frosinone' timestamp=2021-05-08 14:36:41.334000+00:00>]}\n",
            "b'Lazio#ITA#Frosinone#2020-05-13T17:00:00+00:00' {b'covid_cases:confirmed_case': [<Cell value=b'579' timestamp=2021-05-08 14:36:41.360000+00:00>], b'covid_cases:country': [<Cell value=b'ITA' timestamp=2021-05-08 14:36:41.360000+00:00>], b'covid_cases:province': [<Cell value=b'Lazio' timestamp=2021-05-08 14:36:41.360000+00:00>], b'covid_cases:region': [<Cell value=b'Frosinone' timestamp=2021-05-08 14:36:41.360000+00:00>]}\n",
            "b'Lazio#ITA#Frosinone#2020-05-14T17:00:00+00:00' {b'covid_cases:confirmed_case': [<Cell value=b'579' timestamp=2021-05-08 14:36:41.332000+00:00>], b'covid_cases:country': [<Cell value=b'ITA' timestamp=2021-05-08 14:36:41.331000+00:00>], b'covid_cases:province': [<Cell value=b'Lazio' timestamp=2021-05-08 14:36:41.331000+00:00>], b'covid_cases:region': [<Cell value=b'Frosinone' timestamp=2021-05-08 14:36:41.332000+00:00>]}\n",
            "b'Lazio#ITA#Frosinone#2020-05-15T17:00:00+00:00' {b'covid_cases:confirmed_case': [<Cell value=b'580' timestamp=2021-05-08 14:36:41.329000+00:00>], b'covid_cases:country': [<Cell value=b'ITA' timestamp=2021-05-08 14:36:41.329000+00:00>], b'covid_cases:province': [<Cell value=b'Lazio' timestamp=2021-05-08 14:36:41.329000+00:00>], b'covid_cases:region': [<Cell value=b'Frosinone' timestamp=2021-05-08 14:36:41.329000+00:00>]}\n",
            "b'Lazio#ITA#Frosinone#2020-05-16T17:00:00+00:00' {b'covid_cases:confirmed_case': [<Cell value=b'581' timestamp=2021-05-08 14:36:41.353000+00:00>], b'covid_cases:country': [<Cell value=b'ITA' timestamp=2021-05-08 14:36:41.353000+00:00>], b'covid_cases:province': [<Cell value=b'Lazio' timestamp=2021-05-08 14:36:41.353000+00:00>], b'covid_cases:region': [<Cell value=b'Frosinone' timestamp=2021-05-08 14:36:41.353000+00:00>]}\n",
            "b'Lazio#ITA#Frosinone#2020-05-17T17:00:00+00:00' {b'covid_cases:confirmed_case': [<Cell value=b'583' timestamp=2021-05-08 14:36:41.369000+00:00>], b'covid_cases:country': [<Cell value=b'ITA' timestamp=2021-05-08 14:36:41.369000+00:00>], b'covid_cases:province': [<Cell value=b'Lazio' timestamp=2021-05-08 14:36:41.369000+00:00>], b'covid_cases:region': [<Cell value=b'Frosinone' timestamp=2021-05-08 14:36:41.369000+00:00>]}\n",
            "b'Lazio#ITA#Frosinone#2020-05-18T17:00:00+00:00' {b'covid_cases:confirmed_case': [<Cell value=b'585' timestamp=2021-05-08 14:36:41.328000+00:00>], b'covid_cases:country': [<Cell value=b'ITA' timestamp=2021-05-08 14:36:41.328000+00:00>], b'covid_cases:province': [<Cell value=b'Lazio' timestamp=2021-05-08 14:36:41.328000+00:00>], b'covid_cases:region': [<Cell value=b'Frosinone' timestamp=2021-05-08 14:36:41.328000+00:00>]}\n",
            "b'Lazio#ITA#Frosinone#2020-05-19T17:00:00+00:00' {b'covid_cases:confirmed_case': [<Cell value=b'600' timestamp=2021-05-08 14:36:41.353000+00:00>], b'covid_cases:country': [<Cell value=b'ITA' timestamp=2021-05-08 14:36:41.353000+00:00>], b'covid_cases:province': [<Cell value=b'Lazio' timestamp=2021-05-08 14:36:41.353000+00:00>], b'covid_cases:region': [<Cell value=b'Frosinone' timestamp=2021-05-08 14:36:41.353000+00:00>]}\n",
            "b'Lazio#ITA#Frosinone#2020-05-20T17:00:00+00:00' {b'covid_cases:confirmed_case': [<Cell value=b'604' timestamp=2021-05-08 14:36:41.369000+00:00>], b'covid_cases:country': [<Cell value=b'ITA' timestamp=2021-05-08 14:36:41.369000+00:00>], b'covid_cases:province': [<Cell value=b'Lazio' timestamp=2021-05-08 14:36:41.369000+00:00>], b'covid_cases:region': [<Cell value=b'Frosinone' timestamp=2021-05-08 14:36:41.369000+00:00>]}\n",
            "b'Lazio#ITA#Frosinone#2020-05-21T17:00:00+00:00' {b'covid_cases:confirmed_case': [<Cell value=b'610' timestamp=2021-05-08 14:36:41.329000+00:00>], b'covid_cases:country': [<Cell value=b'ITA' timestamp=2021-05-08 14:36:41.329000+00:00>], b'covid_cases:province': [<Cell value=b'Lazio' timestamp=2021-05-08 14:36:41.329000+00:00>], b'covid_cases:region': [<Cell value=b'Frosinone' timestamp=2021-05-08 14:36:41.329000+00:00>]}\n",
            "b'Lazio#ITA#Frosinone#2020-05-22T17:00:00+00:00' {b'covid_cases:confirmed_case': [<Cell value=b'610' timestamp=2021-05-08 14:36:41.333000+00:00>], b'covid_cases:country': [<Cell value=b'ITA' timestamp=2021-05-08 14:36:41.333000+00:00>], b'covid_cases:province': [<Cell value=b'Lazio' timestamp=2021-05-08 14:36:41.333000+00:00>], b'covid_cases:region': [<Cell value=b'Frosinone' timestamp=2021-05-08 14:36:41.333000+00:00>]}\n",
            "b'Lazio#ITA#Frosinone#2020-05-23T17:00:00+00:00' {b'covid_cases:confirmed_case': [<Cell value=b'612' timestamp=2021-05-08 14:36:41.338000+00:00>], b'covid_cases:country': [<Cell value=b'ITA' timestamp=2021-05-08 14:36:41.337000+00:00>], b'covid_cases:province': [<Cell value=b'Lazio' timestamp=2021-05-08 14:36:41.338000+00:00>], b'covid_cases:region': [<Cell value=b'Frosinone' timestamp=2021-05-08 14:36:41.338000+00:00>]}\n"
          ],
          "name": "stdout"
        }
      ]
    }
  ]
}